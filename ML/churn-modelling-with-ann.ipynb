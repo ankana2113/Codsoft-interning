{
 "cells": [
  {
   "cell_type": "code",
   "execution_count": 1,
   "id": "aa963bc3",
   "metadata": {
    "_cell_guid": "b1076dfc-b9ad-4769-8c92-a6c4dae69d19",
    "_uuid": "8f2839f25d086af736a60e9eeb907d3b93b6e0e5",
    "execution": {
     "iopub.execute_input": "2024-02-18T06:16:43.327980Z",
     "iopub.status.busy": "2024-02-18T06:16:43.327467Z",
     "iopub.status.idle": "2024-02-18T06:16:44.463466Z",
     "shell.execute_reply": "2024-02-18T06:16:44.462138Z"
    },
    "papermill": {
     "duration": 1.152534,
     "end_time": "2024-02-18T06:16:44.466445",
     "exception": false,
     "start_time": "2024-02-18T06:16:43.313911",
     "status": "completed"
    },
    "tags": []
   },
   "outputs": [
    {
     "name": "stdout",
     "output_type": "stream",
     "text": [
      "/kaggle/input/churn-modelling/Churn_Modelling.csv\n"
     ]
    }
   ],
   "source": [
    "# This Python 3 environment comes with many helpful analytics libraries installed\n",
    "# It is defined by the kaggle/python Docker image: https://github.com/kaggle/docker-python\n",
    "# For example, here's several helpful packages to load\n",
    "\n",
    "import numpy as np # linear algebra\n",
    "import pandas as pd # data processing, CSV file I/O (e.g. pd.read_csv)\n",
    "import matplotlib.pyplot as plt ##data visualization\n",
    "\n",
    "# Input data files are available in the read-only \"../input/\" directory\n",
    "# For example, running this (by clicking run or pressing Shift+Enter) will list all files under the input directory\n",
    "\n",
    "import os\n",
    "for dirname, _, filenames in os.walk('/kaggle/input'):\n",
    "    for filename in filenames:\n",
    "        print(os.path.join(dirname, filename))\n",
    "\n",
    "# You can write up to 20GB to the current directory (/kaggle/working/) that gets preserved as output when you create a version using \"Save & Run All\" \n",
    "# You can also write temporary files to /kaggle/temp/, but they won't be saved outside of the current session"
   ]
  },
  {
   "cell_type": "markdown",
   "id": "184002ed",
   "metadata": {
    "papermill": {
     "duration": 0.010901,
     "end_time": "2024-02-18T06:16:44.490029",
     "exception": false,
     "start_time": "2024-02-18T06:16:44.479128",
     "status": "completed"
    },
    "tags": []
   },
   "source": [
    "**Artificial Neural Networks(ANN)**"
   ]
  },
  {
   "cell_type": "markdown",
   "id": "0472cb28",
   "metadata": {
    "papermill": {
     "duration": 0.01125,
     "end_time": "2024-02-18T06:16:44.513492",
     "exception": false,
     "start_time": "2024-02-18T06:16:44.502242",
     "status": "completed"
    },
    "tags": []
   },
   "source": [
    "Data Preprocessing"
   ]
  },
  {
   "cell_type": "code",
   "execution_count": 2,
   "id": "976d23f4",
   "metadata": {
    "execution": {
     "iopub.execute_input": "2024-02-18T06:16:44.539298Z",
     "iopub.status.busy": "2024-02-18T06:16:44.538689Z",
     "iopub.status.idle": "2024-02-18T06:16:44.594569Z",
     "shell.execute_reply": "2024-02-18T06:16:44.593172Z"
    },
    "papermill": {
     "duration": 0.072944,
     "end_time": "2024-02-18T06:16:44.597937",
     "exception": false,
     "start_time": "2024-02-18T06:16:44.524993",
     "status": "completed"
    },
    "tags": []
   },
   "outputs": [],
   "source": [
    "#Loading the dataset\n",
    "df =pd.read_csv('/kaggle/input/churn-modelling/Churn_Modelling.csv')"
   ]
  },
  {
   "cell_type": "code",
   "execution_count": 3,
   "id": "d94efdc3",
   "metadata": {
    "execution": {
     "iopub.execute_input": "2024-02-18T06:16:44.624195Z",
     "iopub.status.busy": "2024-02-18T06:16:44.623669Z",
     "iopub.status.idle": "2024-02-18T06:16:44.653299Z",
     "shell.execute_reply": "2024-02-18T06:16:44.651776Z"
    },
    "papermill": {
     "duration": 0.04638,
     "end_time": "2024-02-18T06:16:44.656473",
     "exception": false,
     "start_time": "2024-02-18T06:16:44.610093",
     "status": "completed"
    },
    "tags": []
   },
   "outputs": [
    {
     "data": {
      "text/html": [
       "<div>\n",
       "<style scoped>\n",
       "    .dataframe tbody tr th:only-of-type {\n",
       "        vertical-align: middle;\n",
       "    }\n",
       "\n",
       "    .dataframe tbody tr th {\n",
       "        vertical-align: top;\n",
       "    }\n",
       "\n",
       "    .dataframe thead th {\n",
       "        text-align: right;\n",
       "    }\n",
       "</style>\n",
       "<table border=\"1\" class=\"dataframe\">\n",
       "  <thead>\n",
       "    <tr style=\"text-align: right;\">\n",
       "      <th></th>\n",
       "      <th>RowNumber</th>\n",
       "      <th>CustomerId</th>\n",
       "      <th>Surname</th>\n",
       "      <th>CreditScore</th>\n",
       "      <th>Geography</th>\n",
       "      <th>Gender</th>\n",
       "      <th>Age</th>\n",
       "      <th>Tenure</th>\n",
       "      <th>Balance</th>\n",
       "      <th>NumOfProducts</th>\n",
       "      <th>HasCrCard</th>\n",
       "      <th>IsActiveMember</th>\n",
       "      <th>EstimatedSalary</th>\n",
       "      <th>Exited</th>\n",
       "    </tr>\n",
       "  </thead>\n",
       "  <tbody>\n",
       "    <tr>\n",
       "      <th>0</th>\n",
       "      <td>1</td>\n",
       "      <td>15634602</td>\n",
       "      <td>Hargrave</td>\n",
       "      <td>619</td>\n",
       "      <td>France</td>\n",
       "      <td>Female</td>\n",
       "      <td>42</td>\n",
       "      <td>2</td>\n",
       "      <td>0.00</td>\n",
       "      <td>1</td>\n",
       "      <td>1</td>\n",
       "      <td>1</td>\n",
       "      <td>101348.88</td>\n",
       "      <td>1</td>\n",
       "    </tr>\n",
       "    <tr>\n",
       "      <th>1</th>\n",
       "      <td>2</td>\n",
       "      <td>15647311</td>\n",
       "      <td>Hill</td>\n",
       "      <td>608</td>\n",
       "      <td>Spain</td>\n",
       "      <td>Female</td>\n",
       "      <td>41</td>\n",
       "      <td>1</td>\n",
       "      <td>83807.86</td>\n",
       "      <td>1</td>\n",
       "      <td>0</td>\n",
       "      <td>1</td>\n",
       "      <td>112542.58</td>\n",
       "      <td>0</td>\n",
       "    </tr>\n",
       "    <tr>\n",
       "      <th>2</th>\n",
       "      <td>3</td>\n",
       "      <td>15619304</td>\n",
       "      <td>Onio</td>\n",
       "      <td>502</td>\n",
       "      <td>France</td>\n",
       "      <td>Female</td>\n",
       "      <td>42</td>\n",
       "      <td>8</td>\n",
       "      <td>159660.80</td>\n",
       "      <td>3</td>\n",
       "      <td>1</td>\n",
       "      <td>0</td>\n",
       "      <td>113931.57</td>\n",
       "      <td>1</td>\n",
       "    </tr>\n",
       "    <tr>\n",
       "      <th>3</th>\n",
       "      <td>4</td>\n",
       "      <td>15701354</td>\n",
       "      <td>Boni</td>\n",
       "      <td>699</td>\n",
       "      <td>France</td>\n",
       "      <td>Female</td>\n",
       "      <td>39</td>\n",
       "      <td>1</td>\n",
       "      <td>0.00</td>\n",
       "      <td>2</td>\n",
       "      <td>0</td>\n",
       "      <td>0</td>\n",
       "      <td>93826.63</td>\n",
       "      <td>0</td>\n",
       "    </tr>\n",
       "    <tr>\n",
       "      <th>4</th>\n",
       "      <td>5</td>\n",
       "      <td>15737888</td>\n",
       "      <td>Mitchell</td>\n",
       "      <td>850</td>\n",
       "      <td>Spain</td>\n",
       "      <td>Female</td>\n",
       "      <td>43</td>\n",
       "      <td>2</td>\n",
       "      <td>125510.82</td>\n",
       "      <td>1</td>\n",
       "      <td>1</td>\n",
       "      <td>1</td>\n",
       "      <td>79084.10</td>\n",
       "      <td>0</td>\n",
       "    </tr>\n",
       "  </tbody>\n",
       "</table>\n",
       "</div>"
      ],
      "text/plain": [
       "   RowNumber  CustomerId   Surname  CreditScore Geography  Gender  Age  \\\n",
       "0          1    15634602  Hargrave          619    France  Female   42   \n",
       "1          2    15647311      Hill          608     Spain  Female   41   \n",
       "2          3    15619304      Onio          502    France  Female   42   \n",
       "3          4    15701354      Boni          699    France  Female   39   \n",
       "4          5    15737888  Mitchell          850     Spain  Female   43   \n",
       "\n",
       "   Tenure    Balance  NumOfProducts  HasCrCard  IsActiveMember  \\\n",
       "0       2       0.00              1          1               1   \n",
       "1       1   83807.86              1          0               1   \n",
       "2       8  159660.80              3          1               0   \n",
       "3       1       0.00              2          0               0   \n",
       "4       2  125510.82              1          1               1   \n",
       "\n",
       "   EstimatedSalary  Exited  \n",
       "0        101348.88       1  \n",
       "1        112542.58       0  \n",
       "2        113931.57       1  \n",
       "3         93826.63       0  \n",
       "4         79084.10       0  "
      ]
     },
     "execution_count": 3,
     "metadata": {},
     "output_type": "execute_result"
    }
   ],
   "source": [
    "#checking the data\n",
    "df.head()"
   ]
  },
  {
   "cell_type": "code",
   "execution_count": 4,
   "id": "1311c075",
   "metadata": {
    "execution": {
     "iopub.execute_input": "2024-02-18T06:16:44.684520Z",
     "iopub.status.busy": "2024-02-18T06:16:44.683392Z",
     "iopub.status.idle": "2024-02-18T06:16:44.713362Z",
     "shell.execute_reply": "2024-02-18T06:16:44.711818Z"
    },
    "papermill": {
     "duration": 0.047421,
     "end_time": "2024-02-18T06:16:44.716390",
     "exception": false,
     "start_time": "2024-02-18T06:16:44.668969",
     "status": "completed"
    },
    "tags": []
   },
   "outputs": [
    {
     "name": "stdout",
     "output_type": "stream",
     "text": [
      "      CreditScore Geography  Gender  Age  Tenure    Balance  NumOfProducts  \\\n",
      "0             619    France  Female   42       2       0.00              1   \n",
      "1             608     Spain  Female   41       1   83807.86              1   \n",
      "2             502    France  Female   42       8  159660.80              3   \n",
      "3             699    France  Female   39       1       0.00              2   \n",
      "4             850     Spain  Female   43       2  125510.82              1   \n",
      "...           ...       ...     ...  ...     ...        ...            ...   \n",
      "9995          771    France    Male   39       5       0.00              2   \n",
      "9996          516    France    Male   35      10   57369.61              1   \n",
      "9997          709    France  Female   36       7       0.00              1   \n",
      "9998          772   Germany    Male   42       3   75075.31              2   \n",
      "9999          792    France  Female   28       4  130142.79              1   \n",
      "\n",
      "      HasCrCard  IsActiveMember  EstimatedSalary  \n",
      "0             1               1        101348.88  \n",
      "1             0               1        112542.58  \n",
      "2             1               0        113931.57  \n",
      "3             0               0         93826.63  \n",
      "4             1               1         79084.10  \n",
      "...         ...             ...              ...  \n",
      "9995          1               0         96270.64  \n",
      "9996          1               1        101699.77  \n",
      "9997          0               1         42085.58  \n",
      "9998          1               0         92888.52  \n",
      "9999          1               0         38190.78  \n",
      "\n",
      "[10000 rows x 10 columns]\n",
      "0       1\n",
      "1       0\n",
      "2       1\n",
      "3       0\n",
      "4       0\n",
      "       ..\n",
      "9995    0\n",
      "9996    0\n",
      "9997    1\n",
      "9998    1\n",
      "9999    0\n",
      "Name: Exited, Length: 10000, dtype: int64\n"
     ]
    }
   ],
   "source": [
    "X = df.iloc[:, 3:13]\n",
    "y = df.iloc[:, 13]\n",
    "print(X)\n",
    "print(y)"
   ]
  },
  {
   "cell_type": "code",
   "execution_count": 5,
   "id": "db2cd029",
   "metadata": {
    "execution": {
     "iopub.execute_input": "2024-02-18T06:16:44.744990Z",
     "iopub.status.busy": "2024-02-18T06:16:44.743891Z",
     "iopub.status.idle": "2024-02-18T06:16:44.762629Z",
     "shell.execute_reply": "2024-02-18T06:16:44.761271Z"
    },
    "papermill": {
     "duration": 0.036008,
     "end_time": "2024-02-18T06:16:44.765660",
     "exception": false,
     "start_time": "2024-02-18T06:16:44.729652",
     "status": "completed"
    },
    "tags": []
   },
   "outputs": [],
   "source": [
    "## Creating dummy variables\n",
    "\n",
    "geography = pd.get_dummies(X['Geography'], drop_first = True)\n",
    "gender = pd.get_dummies(X['Gender'], drop_first = True)"
   ]
  },
  {
   "cell_type": "code",
   "execution_count": 6,
   "id": "ba7d614b",
   "metadata": {
    "execution": {
     "iopub.execute_input": "2024-02-18T06:16:44.792899Z",
     "iopub.status.busy": "2024-02-18T06:16:44.792469Z",
     "iopub.status.idle": "2024-02-18T06:16:44.804759Z",
     "shell.execute_reply": "2024-02-18T06:16:44.803455Z"
    },
    "papermill": {
     "duration": 0.028666,
     "end_time": "2024-02-18T06:16:44.807598",
     "exception": false,
     "start_time": "2024-02-18T06:16:44.778932",
     "status": "completed"
    },
    "tags": []
   },
   "outputs": [
    {
     "data": {
      "text/html": [
       "<div>\n",
       "<style scoped>\n",
       "    .dataframe tbody tr th:only-of-type {\n",
       "        vertical-align: middle;\n",
       "    }\n",
       "\n",
       "    .dataframe tbody tr th {\n",
       "        vertical-align: top;\n",
       "    }\n",
       "\n",
       "    .dataframe thead th {\n",
       "        text-align: right;\n",
       "    }\n",
       "</style>\n",
       "<table border=\"1\" class=\"dataframe\">\n",
       "  <thead>\n",
       "    <tr style=\"text-align: right;\">\n",
       "      <th></th>\n",
       "      <th>Germany</th>\n",
       "      <th>Spain</th>\n",
       "    </tr>\n",
       "  </thead>\n",
       "  <tbody>\n",
       "    <tr>\n",
       "      <th>0</th>\n",
       "      <td>False</td>\n",
       "      <td>False</td>\n",
       "    </tr>\n",
       "    <tr>\n",
       "      <th>1</th>\n",
       "      <td>False</td>\n",
       "      <td>True</td>\n",
       "    </tr>\n",
       "    <tr>\n",
       "      <th>2</th>\n",
       "      <td>False</td>\n",
       "      <td>False</td>\n",
       "    </tr>\n",
       "    <tr>\n",
       "      <th>3</th>\n",
       "      <td>False</td>\n",
       "      <td>False</td>\n",
       "    </tr>\n",
       "    <tr>\n",
       "      <th>4</th>\n",
       "      <td>False</td>\n",
       "      <td>True</td>\n",
       "    </tr>\n",
       "    <tr>\n",
       "      <th>...</th>\n",
       "      <td>...</td>\n",
       "      <td>...</td>\n",
       "    </tr>\n",
       "    <tr>\n",
       "      <th>9995</th>\n",
       "      <td>False</td>\n",
       "      <td>False</td>\n",
       "    </tr>\n",
       "    <tr>\n",
       "      <th>9996</th>\n",
       "      <td>False</td>\n",
       "      <td>False</td>\n",
       "    </tr>\n",
       "    <tr>\n",
       "      <th>9997</th>\n",
       "      <td>False</td>\n",
       "      <td>False</td>\n",
       "    </tr>\n",
       "    <tr>\n",
       "      <th>9998</th>\n",
       "      <td>True</td>\n",
       "      <td>False</td>\n",
       "    </tr>\n",
       "    <tr>\n",
       "      <th>9999</th>\n",
       "      <td>False</td>\n",
       "      <td>False</td>\n",
       "    </tr>\n",
       "  </tbody>\n",
       "</table>\n",
       "<p>10000 rows × 2 columns</p>\n",
       "</div>"
      ],
      "text/plain": [
       "      Germany  Spain\n",
       "0       False  False\n",
       "1       False   True\n",
       "2       False  False\n",
       "3       False  False\n",
       "4       False   True\n",
       "...       ...    ...\n",
       "9995    False  False\n",
       "9996    False  False\n",
       "9997    False  False\n",
       "9998     True  False\n",
       "9999    False  False\n",
       "\n",
       "[10000 rows x 2 columns]"
      ]
     },
     "execution_count": 6,
     "metadata": {},
     "output_type": "execute_result"
    }
   ],
   "source": [
    "geography"
   ]
  },
  {
   "cell_type": "code",
   "execution_count": 7,
   "id": "c4b6e2f9",
   "metadata": {
    "execution": {
     "iopub.execute_input": "2024-02-18T06:16:44.835405Z",
     "iopub.status.busy": "2024-02-18T06:16:44.834964Z",
     "iopub.status.idle": "2024-02-18T06:16:44.847021Z",
     "shell.execute_reply": "2024-02-18T06:16:44.845597Z"
    },
    "papermill": {
     "duration": 0.029334,
     "end_time": "2024-02-18T06:16:44.849458",
     "exception": false,
     "start_time": "2024-02-18T06:16:44.820124",
     "status": "completed"
    },
    "tags": []
   },
   "outputs": [
    {
     "data": {
      "text/html": [
       "<div>\n",
       "<style scoped>\n",
       "    .dataframe tbody tr th:only-of-type {\n",
       "        vertical-align: middle;\n",
       "    }\n",
       "\n",
       "    .dataframe tbody tr th {\n",
       "        vertical-align: top;\n",
       "    }\n",
       "\n",
       "    .dataframe thead th {\n",
       "        text-align: right;\n",
       "    }\n",
       "</style>\n",
       "<table border=\"1\" class=\"dataframe\">\n",
       "  <thead>\n",
       "    <tr style=\"text-align: right;\">\n",
       "      <th></th>\n",
       "      <th>Male</th>\n",
       "    </tr>\n",
       "  </thead>\n",
       "  <tbody>\n",
       "    <tr>\n",
       "      <th>0</th>\n",
       "      <td>False</td>\n",
       "    </tr>\n",
       "    <tr>\n",
       "      <th>1</th>\n",
       "      <td>False</td>\n",
       "    </tr>\n",
       "    <tr>\n",
       "      <th>2</th>\n",
       "      <td>False</td>\n",
       "    </tr>\n",
       "    <tr>\n",
       "      <th>3</th>\n",
       "      <td>False</td>\n",
       "    </tr>\n",
       "    <tr>\n",
       "      <th>4</th>\n",
       "      <td>False</td>\n",
       "    </tr>\n",
       "    <tr>\n",
       "      <th>...</th>\n",
       "      <td>...</td>\n",
       "    </tr>\n",
       "    <tr>\n",
       "      <th>9995</th>\n",
       "      <td>True</td>\n",
       "    </tr>\n",
       "    <tr>\n",
       "      <th>9996</th>\n",
       "      <td>True</td>\n",
       "    </tr>\n",
       "    <tr>\n",
       "      <th>9997</th>\n",
       "      <td>False</td>\n",
       "    </tr>\n",
       "    <tr>\n",
       "      <th>9998</th>\n",
       "      <td>True</td>\n",
       "    </tr>\n",
       "    <tr>\n",
       "      <th>9999</th>\n",
       "      <td>False</td>\n",
       "    </tr>\n",
       "  </tbody>\n",
       "</table>\n",
       "<p>10000 rows × 1 columns</p>\n",
       "</div>"
      ],
      "text/plain": [
       "       Male\n",
       "0     False\n",
       "1     False\n",
       "2     False\n",
       "3     False\n",
       "4     False\n",
       "...     ...\n",
       "9995   True\n",
       "9996   True\n",
       "9997  False\n",
       "9998   True\n",
       "9999  False\n",
       "\n",
       "[10000 rows x 1 columns]"
      ]
     },
     "execution_count": 7,
     "metadata": {},
     "output_type": "execute_result"
    }
   ],
   "source": [
    "gender"
   ]
  },
  {
   "cell_type": "code",
   "execution_count": 8,
   "id": "43fa587f",
   "metadata": {
    "execution": {
     "iopub.execute_input": "2024-02-18T06:16:44.877322Z",
     "iopub.status.busy": "2024-02-18T06:16:44.876494Z",
     "iopub.status.idle": "2024-02-18T06:16:44.886598Z",
     "shell.execute_reply": "2024-02-18T06:16:44.885353Z"
    },
    "papermill": {
     "duration": 0.027834,
     "end_time": "2024-02-18T06:16:44.889864",
     "exception": false,
     "start_time": "2024-02-18T06:16:44.862030",
     "status": "completed"
    },
    "tags": []
   },
   "outputs": [],
   "source": [
    "##Concatenate dataframes\n",
    "X = pd.concat([X, geography, gender], axis = 1)"
   ]
  },
  {
   "cell_type": "code",
   "execution_count": 9,
   "id": "aaa28da2",
   "metadata": {
    "execution": {
     "iopub.execute_input": "2024-02-18T06:16:44.917636Z",
     "iopub.status.busy": "2024-02-18T06:16:44.917236Z",
     "iopub.status.idle": "2024-02-18T06:16:44.940251Z",
     "shell.execute_reply": "2024-02-18T06:16:44.938904Z"
    },
    "papermill": {
     "duration": 0.040337,
     "end_time": "2024-02-18T06:16:44.943032",
     "exception": false,
     "start_time": "2024-02-18T06:16:44.902695",
     "status": "completed"
    },
    "tags": []
   },
   "outputs": [
    {
     "data": {
      "text/html": [
       "<div>\n",
       "<style scoped>\n",
       "    .dataframe tbody tr th:only-of-type {\n",
       "        vertical-align: middle;\n",
       "    }\n",
       "\n",
       "    .dataframe tbody tr th {\n",
       "        vertical-align: top;\n",
       "    }\n",
       "\n",
       "    .dataframe thead th {\n",
       "        text-align: right;\n",
       "    }\n",
       "</style>\n",
       "<table border=\"1\" class=\"dataframe\">\n",
       "  <thead>\n",
       "    <tr style=\"text-align: right;\">\n",
       "      <th></th>\n",
       "      <th>CreditScore</th>\n",
       "      <th>Geography</th>\n",
       "      <th>Gender</th>\n",
       "      <th>Age</th>\n",
       "      <th>Tenure</th>\n",
       "      <th>Balance</th>\n",
       "      <th>NumOfProducts</th>\n",
       "      <th>HasCrCard</th>\n",
       "      <th>IsActiveMember</th>\n",
       "      <th>EstimatedSalary</th>\n",
       "      <th>Germany</th>\n",
       "      <th>Spain</th>\n",
       "      <th>Male</th>\n",
       "    </tr>\n",
       "  </thead>\n",
       "  <tbody>\n",
       "    <tr>\n",
       "      <th>0</th>\n",
       "      <td>619</td>\n",
       "      <td>France</td>\n",
       "      <td>Female</td>\n",
       "      <td>42</td>\n",
       "      <td>2</td>\n",
       "      <td>0.00</td>\n",
       "      <td>1</td>\n",
       "      <td>1</td>\n",
       "      <td>1</td>\n",
       "      <td>101348.88</td>\n",
       "      <td>False</td>\n",
       "      <td>False</td>\n",
       "      <td>False</td>\n",
       "    </tr>\n",
       "    <tr>\n",
       "      <th>1</th>\n",
       "      <td>608</td>\n",
       "      <td>Spain</td>\n",
       "      <td>Female</td>\n",
       "      <td>41</td>\n",
       "      <td>1</td>\n",
       "      <td>83807.86</td>\n",
       "      <td>1</td>\n",
       "      <td>0</td>\n",
       "      <td>1</td>\n",
       "      <td>112542.58</td>\n",
       "      <td>False</td>\n",
       "      <td>True</td>\n",
       "      <td>False</td>\n",
       "    </tr>\n",
       "    <tr>\n",
       "      <th>2</th>\n",
       "      <td>502</td>\n",
       "      <td>France</td>\n",
       "      <td>Female</td>\n",
       "      <td>42</td>\n",
       "      <td>8</td>\n",
       "      <td>159660.80</td>\n",
       "      <td>3</td>\n",
       "      <td>1</td>\n",
       "      <td>0</td>\n",
       "      <td>113931.57</td>\n",
       "      <td>False</td>\n",
       "      <td>False</td>\n",
       "      <td>False</td>\n",
       "    </tr>\n",
       "    <tr>\n",
       "      <th>3</th>\n",
       "      <td>699</td>\n",
       "      <td>France</td>\n",
       "      <td>Female</td>\n",
       "      <td>39</td>\n",
       "      <td>1</td>\n",
       "      <td>0.00</td>\n",
       "      <td>2</td>\n",
       "      <td>0</td>\n",
       "      <td>0</td>\n",
       "      <td>93826.63</td>\n",
       "      <td>False</td>\n",
       "      <td>False</td>\n",
       "      <td>False</td>\n",
       "    </tr>\n",
       "    <tr>\n",
       "      <th>4</th>\n",
       "      <td>850</td>\n",
       "      <td>Spain</td>\n",
       "      <td>Female</td>\n",
       "      <td>43</td>\n",
       "      <td>2</td>\n",
       "      <td>125510.82</td>\n",
       "      <td>1</td>\n",
       "      <td>1</td>\n",
       "      <td>1</td>\n",
       "      <td>79084.10</td>\n",
       "      <td>False</td>\n",
       "      <td>True</td>\n",
       "      <td>False</td>\n",
       "    </tr>\n",
       "    <tr>\n",
       "      <th>...</th>\n",
       "      <td>...</td>\n",
       "      <td>...</td>\n",
       "      <td>...</td>\n",
       "      <td>...</td>\n",
       "      <td>...</td>\n",
       "      <td>...</td>\n",
       "      <td>...</td>\n",
       "      <td>...</td>\n",
       "      <td>...</td>\n",
       "      <td>...</td>\n",
       "      <td>...</td>\n",
       "      <td>...</td>\n",
       "      <td>...</td>\n",
       "    </tr>\n",
       "    <tr>\n",
       "      <th>9995</th>\n",
       "      <td>771</td>\n",
       "      <td>France</td>\n",
       "      <td>Male</td>\n",
       "      <td>39</td>\n",
       "      <td>5</td>\n",
       "      <td>0.00</td>\n",
       "      <td>2</td>\n",
       "      <td>1</td>\n",
       "      <td>0</td>\n",
       "      <td>96270.64</td>\n",
       "      <td>False</td>\n",
       "      <td>False</td>\n",
       "      <td>True</td>\n",
       "    </tr>\n",
       "    <tr>\n",
       "      <th>9996</th>\n",
       "      <td>516</td>\n",
       "      <td>France</td>\n",
       "      <td>Male</td>\n",
       "      <td>35</td>\n",
       "      <td>10</td>\n",
       "      <td>57369.61</td>\n",
       "      <td>1</td>\n",
       "      <td>1</td>\n",
       "      <td>1</td>\n",
       "      <td>101699.77</td>\n",
       "      <td>False</td>\n",
       "      <td>False</td>\n",
       "      <td>True</td>\n",
       "    </tr>\n",
       "    <tr>\n",
       "      <th>9997</th>\n",
       "      <td>709</td>\n",
       "      <td>France</td>\n",
       "      <td>Female</td>\n",
       "      <td>36</td>\n",
       "      <td>7</td>\n",
       "      <td>0.00</td>\n",
       "      <td>1</td>\n",
       "      <td>0</td>\n",
       "      <td>1</td>\n",
       "      <td>42085.58</td>\n",
       "      <td>False</td>\n",
       "      <td>False</td>\n",
       "      <td>False</td>\n",
       "    </tr>\n",
       "    <tr>\n",
       "      <th>9998</th>\n",
       "      <td>772</td>\n",
       "      <td>Germany</td>\n",
       "      <td>Male</td>\n",
       "      <td>42</td>\n",
       "      <td>3</td>\n",
       "      <td>75075.31</td>\n",
       "      <td>2</td>\n",
       "      <td>1</td>\n",
       "      <td>0</td>\n",
       "      <td>92888.52</td>\n",
       "      <td>True</td>\n",
       "      <td>False</td>\n",
       "      <td>True</td>\n",
       "    </tr>\n",
       "    <tr>\n",
       "      <th>9999</th>\n",
       "      <td>792</td>\n",
       "      <td>France</td>\n",
       "      <td>Female</td>\n",
       "      <td>28</td>\n",
       "      <td>4</td>\n",
       "      <td>130142.79</td>\n",
       "      <td>1</td>\n",
       "      <td>1</td>\n",
       "      <td>0</td>\n",
       "      <td>38190.78</td>\n",
       "      <td>False</td>\n",
       "      <td>False</td>\n",
       "      <td>False</td>\n",
       "    </tr>\n",
       "  </tbody>\n",
       "</table>\n",
       "<p>10000 rows × 13 columns</p>\n",
       "</div>"
      ],
      "text/plain": [
       "      CreditScore Geography  Gender  Age  Tenure    Balance  NumOfProducts  \\\n",
       "0             619    France  Female   42       2       0.00              1   \n",
       "1             608     Spain  Female   41       1   83807.86              1   \n",
       "2             502    France  Female   42       8  159660.80              3   \n",
       "3             699    France  Female   39       1       0.00              2   \n",
       "4             850     Spain  Female   43       2  125510.82              1   \n",
       "...           ...       ...     ...  ...     ...        ...            ...   \n",
       "9995          771    France    Male   39       5       0.00              2   \n",
       "9996          516    France    Male   35      10   57369.61              1   \n",
       "9997          709    France  Female   36       7       0.00              1   \n",
       "9998          772   Germany    Male   42       3   75075.31              2   \n",
       "9999          792    France  Female   28       4  130142.79              1   \n",
       "\n",
       "      HasCrCard  IsActiveMember  EstimatedSalary  Germany  Spain   Male  \n",
       "0             1               1        101348.88    False  False  False  \n",
       "1             0               1        112542.58    False   True  False  \n",
       "2             1               0        113931.57    False  False  False  \n",
       "3             0               0         93826.63    False  False  False  \n",
       "4             1               1         79084.10    False   True  False  \n",
       "...         ...             ...              ...      ...    ...    ...  \n",
       "9995          1               0         96270.64    False  False   True  \n",
       "9996          1               1        101699.77    False  False   True  \n",
       "9997          0               1         42085.58    False  False  False  \n",
       "9998          1               0         92888.52     True  False   True  \n",
       "9999          1               0         38190.78    False  False  False  \n",
       "\n",
       "[10000 rows x 13 columns]"
      ]
     },
     "execution_count": 9,
     "metadata": {},
     "output_type": "execute_result"
    }
   ],
   "source": [
    "X"
   ]
  },
  {
   "cell_type": "code",
   "execution_count": 10,
   "id": "216d4de5",
   "metadata": {
    "execution": {
     "iopub.execute_input": "2024-02-18T06:16:44.972519Z",
     "iopub.status.busy": "2024-02-18T06:16:44.971198Z",
     "iopub.status.idle": "2024-02-18T06:16:44.978968Z",
     "shell.execute_reply": "2024-02-18T06:16:44.977912Z"
    },
    "papermill": {
     "duration": 0.025305,
     "end_time": "2024-02-18T06:16:44.981745",
     "exception": false,
     "start_time": "2024-02-18T06:16:44.956440",
     "status": "completed"
    },
    "tags": []
   },
   "outputs": [],
   "source": [
    "##Drop unecessary columns\n",
    "X = X.drop(['Geography', 'Gender'], axis = 1)"
   ]
  },
  {
   "cell_type": "code",
   "execution_count": 11,
   "id": "e8f94c77",
   "metadata": {
    "execution": {
     "iopub.execute_input": "2024-02-18T06:16:45.012928Z",
     "iopub.status.busy": "2024-02-18T06:16:45.011594Z",
     "iopub.status.idle": "2024-02-18T06:16:45.035400Z",
     "shell.execute_reply": "2024-02-18T06:16:45.034409Z"
    },
    "papermill": {
     "duration": 0.042309,
     "end_time": "2024-02-18T06:16:45.037785",
     "exception": false,
     "start_time": "2024-02-18T06:16:44.995476",
     "status": "completed"
    },
    "tags": []
   },
   "outputs": [
    {
     "data": {
      "text/html": [
       "<div>\n",
       "<style scoped>\n",
       "    .dataframe tbody tr th:only-of-type {\n",
       "        vertical-align: middle;\n",
       "    }\n",
       "\n",
       "    .dataframe tbody tr th {\n",
       "        vertical-align: top;\n",
       "    }\n",
       "\n",
       "    .dataframe thead th {\n",
       "        text-align: right;\n",
       "    }\n",
       "</style>\n",
       "<table border=\"1\" class=\"dataframe\">\n",
       "  <thead>\n",
       "    <tr style=\"text-align: right;\">\n",
       "      <th></th>\n",
       "      <th>CreditScore</th>\n",
       "      <th>Age</th>\n",
       "      <th>Tenure</th>\n",
       "      <th>Balance</th>\n",
       "      <th>NumOfProducts</th>\n",
       "      <th>HasCrCard</th>\n",
       "      <th>IsActiveMember</th>\n",
       "      <th>EstimatedSalary</th>\n",
       "      <th>Germany</th>\n",
       "      <th>Spain</th>\n",
       "      <th>Male</th>\n",
       "    </tr>\n",
       "  </thead>\n",
       "  <tbody>\n",
       "    <tr>\n",
       "      <th>0</th>\n",
       "      <td>619</td>\n",
       "      <td>42</td>\n",
       "      <td>2</td>\n",
       "      <td>0.00</td>\n",
       "      <td>1</td>\n",
       "      <td>1</td>\n",
       "      <td>1</td>\n",
       "      <td>101348.88</td>\n",
       "      <td>False</td>\n",
       "      <td>False</td>\n",
       "      <td>False</td>\n",
       "    </tr>\n",
       "    <tr>\n",
       "      <th>1</th>\n",
       "      <td>608</td>\n",
       "      <td>41</td>\n",
       "      <td>1</td>\n",
       "      <td>83807.86</td>\n",
       "      <td>1</td>\n",
       "      <td>0</td>\n",
       "      <td>1</td>\n",
       "      <td>112542.58</td>\n",
       "      <td>False</td>\n",
       "      <td>True</td>\n",
       "      <td>False</td>\n",
       "    </tr>\n",
       "    <tr>\n",
       "      <th>2</th>\n",
       "      <td>502</td>\n",
       "      <td>42</td>\n",
       "      <td>8</td>\n",
       "      <td>159660.80</td>\n",
       "      <td>3</td>\n",
       "      <td>1</td>\n",
       "      <td>0</td>\n",
       "      <td>113931.57</td>\n",
       "      <td>False</td>\n",
       "      <td>False</td>\n",
       "      <td>False</td>\n",
       "    </tr>\n",
       "    <tr>\n",
       "      <th>3</th>\n",
       "      <td>699</td>\n",
       "      <td>39</td>\n",
       "      <td>1</td>\n",
       "      <td>0.00</td>\n",
       "      <td>2</td>\n",
       "      <td>0</td>\n",
       "      <td>0</td>\n",
       "      <td>93826.63</td>\n",
       "      <td>False</td>\n",
       "      <td>False</td>\n",
       "      <td>False</td>\n",
       "    </tr>\n",
       "    <tr>\n",
       "      <th>4</th>\n",
       "      <td>850</td>\n",
       "      <td>43</td>\n",
       "      <td>2</td>\n",
       "      <td>125510.82</td>\n",
       "      <td>1</td>\n",
       "      <td>1</td>\n",
       "      <td>1</td>\n",
       "      <td>79084.10</td>\n",
       "      <td>False</td>\n",
       "      <td>True</td>\n",
       "      <td>False</td>\n",
       "    </tr>\n",
       "    <tr>\n",
       "      <th>...</th>\n",
       "      <td>...</td>\n",
       "      <td>...</td>\n",
       "      <td>...</td>\n",
       "      <td>...</td>\n",
       "      <td>...</td>\n",
       "      <td>...</td>\n",
       "      <td>...</td>\n",
       "      <td>...</td>\n",
       "      <td>...</td>\n",
       "      <td>...</td>\n",
       "      <td>...</td>\n",
       "    </tr>\n",
       "    <tr>\n",
       "      <th>9995</th>\n",
       "      <td>771</td>\n",
       "      <td>39</td>\n",
       "      <td>5</td>\n",
       "      <td>0.00</td>\n",
       "      <td>2</td>\n",
       "      <td>1</td>\n",
       "      <td>0</td>\n",
       "      <td>96270.64</td>\n",
       "      <td>False</td>\n",
       "      <td>False</td>\n",
       "      <td>True</td>\n",
       "    </tr>\n",
       "    <tr>\n",
       "      <th>9996</th>\n",
       "      <td>516</td>\n",
       "      <td>35</td>\n",
       "      <td>10</td>\n",
       "      <td>57369.61</td>\n",
       "      <td>1</td>\n",
       "      <td>1</td>\n",
       "      <td>1</td>\n",
       "      <td>101699.77</td>\n",
       "      <td>False</td>\n",
       "      <td>False</td>\n",
       "      <td>True</td>\n",
       "    </tr>\n",
       "    <tr>\n",
       "      <th>9997</th>\n",
       "      <td>709</td>\n",
       "      <td>36</td>\n",
       "      <td>7</td>\n",
       "      <td>0.00</td>\n",
       "      <td>1</td>\n",
       "      <td>0</td>\n",
       "      <td>1</td>\n",
       "      <td>42085.58</td>\n",
       "      <td>False</td>\n",
       "      <td>False</td>\n",
       "      <td>False</td>\n",
       "    </tr>\n",
       "    <tr>\n",
       "      <th>9998</th>\n",
       "      <td>772</td>\n",
       "      <td>42</td>\n",
       "      <td>3</td>\n",
       "      <td>75075.31</td>\n",
       "      <td>2</td>\n",
       "      <td>1</td>\n",
       "      <td>0</td>\n",
       "      <td>92888.52</td>\n",
       "      <td>True</td>\n",
       "      <td>False</td>\n",
       "      <td>True</td>\n",
       "    </tr>\n",
       "    <tr>\n",
       "      <th>9999</th>\n",
       "      <td>792</td>\n",
       "      <td>28</td>\n",
       "      <td>4</td>\n",
       "      <td>130142.79</td>\n",
       "      <td>1</td>\n",
       "      <td>1</td>\n",
       "      <td>0</td>\n",
       "      <td>38190.78</td>\n",
       "      <td>False</td>\n",
       "      <td>False</td>\n",
       "      <td>False</td>\n",
       "    </tr>\n",
       "  </tbody>\n",
       "</table>\n",
       "<p>10000 rows × 11 columns</p>\n",
       "</div>"
      ],
      "text/plain": [
       "      CreditScore  Age  Tenure    Balance  NumOfProducts  HasCrCard  \\\n",
       "0             619   42       2       0.00              1          1   \n",
       "1             608   41       1   83807.86              1          0   \n",
       "2             502   42       8  159660.80              3          1   \n",
       "3             699   39       1       0.00              2          0   \n",
       "4             850   43       2  125510.82              1          1   \n",
       "...           ...  ...     ...        ...            ...        ...   \n",
       "9995          771   39       5       0.00              2          1   \n",
       "9996          516   35      10   57369.61              1          1   \n",
       "9997          709   36       7       0.00              1          0   \n",
       "9998          772   42       3   75075.31              2          1   \n",
       "9999          792   28       4  130142.79              1          1   \n",
       "\n",
       "      IsActiveMember  EstimatedSalary  Germany  Spain   Male  \n",
       "0                  1        101348.88    False  False  False  \n",
       "1                  1        112542.58    False   True  False  \n",
       "2                  0        113931.57    False  False  False  \n",
       "3                  0         93826.63    False  False  False  \n",
       "4                  1         79084.10    False   True  False  \n",
       "...              ...              ...      ...    ...    ...  \n",
       "9995               0         96270.64    False  False   True  \n",
       "9996               1        101699.77    False  False   True  \n",
       "9997               1         42085.58    False  False  False  \n",
       "9998               0         92888.52     True  False   True  \n",
       "9999               0         38190.78    False  False  False  \n",
       "\n",
       "[10000 rows x 11 columns]"
      ]
     },
     "execution_count": 11,
     "metadata": {},
     "output_type": "execute_result"
    }
   ],
   "source": [
    "X"
   ]
  },
  {
   "cell_type": "code",
   "execution_count": 12,
   "id": "43fae5d2",
   "metadata": {
    "execution": {
     "iopub.execute_input": "2024-02-18T06:16:45.068109Z",
     "iopub.status.busy": "2024-02-18T06:16:45.067409Z",
     "iopub.status.idle": "2024-02-18T06:16:46.744528Z",
     "shell.execute_reply": "2024-02-18T06:16:46.743312Z"
    },
    "papermill": {
     "duration": 1.695552,
     "end_time": "2024-02-18T06:16:46.747835",
     "exception": false,
     "start_time": "2024-02-18T06:16:45.052283",
     "status": "completed"
    },
    "tags": []
   },
   "outputs": [],
   "source": [
    "##splitting into training, cross validation and test dataset\n",
    "\n",
    "from sklearn.model_selection import train_test_split\n",
    "\n",
    "X_train, X_test1, y_train, y_test1 = train_test_split(X, y, test_size = 0.4, random_state = 0)\n",
    "X_test, X_cval, y_test, y_cval = train_test_split(X_test1, y_test1, test_size = 0.5, random_state = 0)"
   ]
  },
  {
   "cell_type": "code",
   "execution_count": 13,
   "id": "fd5ba9a1",
   "metadata": {
    "execution": {
     "iopub.execute_input": "2024-02-18T06:16:46.778589Z",
     "iopub.status.busy": "2024-02-18T06:16:46.777339Z",
     "iopub.status.idle": "2024-02-18T06:16:46.809169Z",
     "shell.execute_reply": "2024-02-18T06:16:46.807905Z"
    },
    "papermill": {
     "duration": 0.050467,
     "end_time": "2024-02-18T06:16:46.811979",
     "exception": false,
     "start_time": "2024-02-18T06:16:46.761512",
     "status": "completed"
    },
    "tags": []
   },
   "outputs": [],
   "source": [
    "## Feature Scaling\n",
    "from sklearn.preprocessing import StandardScaler\n",
    "sc = StandardScaler()\n",
    "\n",
    "X_train = sc.fit_transform(X_train)\n",
    "X_cval = sc.fit_transform(X_cval)\n",
    "X_test = sc.fit_transform(X_test)"
   ]
  },
  {
   "cell_type": "markdown",
   "id": "01cfa992",
   "metadata": {
    "papermill": {
     "duration": 0.012419,
     "end_time": "2024-02-18T06:16:46.837204",
     "exception": false,
     "start_time": "2024-02-18T06:16:46.824785",
     "status": "completed"
    },
    "tags": []
   },
   "source": [
    "**Creating Artificial Neural Networks(ANN)**"
   ]
  },
  {
   "cell_type": "code",
   "execution_count": 14,
   "id": "675d2b9d",
   "metadata": {
    "execution": {
     "iopub.execute_input": "2024-02-18T06:16:46.866314Z",
     "iopub.status.busy": "2024-02-18T06:16:46.865595Z",
     "iopub.status.idle": "2024-02-18T06:17:04.042168Z",
     "shell.execute_reply": "2024-02-18T06:17:04.040709Z"
    },
    "papermill": {
     "duration": 17.194962,
     "end_time": "2024-02-18T06:17:04.045374",
     "exception": false,
     "start_time": "2024-02-18T06:16:46.850412",
     "status": "completed"
    },
    "tags": []
   },
   "outputs": [
    {
     "name": "stderr",
     "output_type": "stream",
     "text": [
      "2024-02-18 06:16:49.473906: E external/local_xla/xla/stream_executor/cuda/cuda_dnn.cc:9261] Unable to register cuDNN factory: Attempting to register factory for plugin cuDNN when one has already been registered\n",
      "2024-02-18 06:16:49.474109: E external/local_xla/xla/stream_executor/cuda/cuda_fft.cc:607] Unable to register cuFFT factory: Attempting to register factory for plugin cuFFT when one has already been registered\n",
      "2024-02-18 06:16:49.653566: E external/local_xla/xla/stream_executor/cuda/cuda_blas.cc:1515] Unable to register cuBLAS factory: Attempting to register factory for plugin cuBLAS when one has already been registered\n"
     ]
    }
   ],
   "source": [
    "##Importing Keras libraries\n",
    "import tensorflow as tf\n",
    "import keras\n",
    "#from keras.models import Sequential\n",
    "from keras.layers import Dense\n",
    "#from keras.layers import LeakyReLU, PReLU, ELU\n",
    "from keras.layers import Dropout\n",
    "#from keras.losses import BinaryCrossEntropy"
   ]
  },
  {
   "cell_type": "code",
   "execution_count": 15,
   "id": "77105bf3",
   "metadata": {
    "execution": {
     "iopub.execute_input": "2024-02-18T06:17:04.076482Z",
     "iopub.status.busy": "2024-02-18T06:17:04.075486Z",
     "iopub.status.idle": "2024-02-18T06:17:04.272524Z",
     "shell.execute_reply": "2024-02-18T06:17:04.271216Z"
    },
    "papermill": {
     "duration": 0.216327,
     "end_time": "2024-02-18T06:17:04.276008",
     "exception": false,
     "start_time": "2024-02-18T06:17:04.059681",
     "status": "completed"
    },
    "tags": []
   },
   "outputs": [],
   "source": [
    "## Initializing the ANN\n",
    "model = tf.keras.models.Sequential()"
   ]
  },
  {
   "cell_type": "code",
   "execution_count": 16,
   "id": "9b999482",
   "metadata": {
    "execution": {
     "iopub.execute_input": "2024-02-18T06:17:04.305762Z",
     "iopub.status.busy": "2024-02-18T06:17:04.304884Z",
     "iopub.status.idle": "2024-02-18T06:17:04.370783Z",
     "shell.execute_reply": "2024-02-18T06:17:04.369509Z"
    },
    "papermill": {
     "duration": 0.083849,
     "end_time": "2024-02-18T06:17:04.373611",
     "exception": false,
     "start_time": "2024-02-18T06:17:04.289762",
     "status": "completed"
    },
    "tags": []
   },
   "outputs": [],
   "source": [
    "##Adding input layer and the first hidden layer\n",
    "model.add(tf.keras.Input(shape = (11, )))\n",
    "model.add(Dense(6, activation = 'relu', kernel_initializer = 'he_uniform'))\n",
    "model.add(Dropout(0.3))"
   ]
  },
  {
   "cell_type": "code",
   "execution_count": 17,
   "id": "856b1043",
   "metadata": {
    "execution": {
     "iopub.execute_input": "2024-02-18T06:17:04.401546Z",
     "iopub.status.busy": "2024-02-18T06:17:04.401010Z",
     "iopub.status.idle": "2024-02-18T06:17:04.429837Z",
     "shell.execute_reply": "2024-02-18T06:17:04.428864Z"
    },
    "papermill": {
     "duration": 0.046256,
     "end_time": "2024-02-18T06:17:04.432768",
     "exception": false,
     "start_time": "2024-02-18T06:17:04.386512",
     "status": "completed"
    },
    "tags": []
   },
   "outputs": [],
   "source": [
    "##second hidden layer\n",
    "model.add(Dense(6, activation = 'relu', kernel_initializer = 'he_uniform'))\n",
    "model.add(Dropout(0.2))"
   ]
  },
  {
   "cell_type": "code",
   "execution_count": 18,
   "id": "f76c2d1b",
   "metadata": {
    "execution": {
     "iopub.execute_input": "2024-02-18T06:17:04.462156Z",
     "iopub.status.busy": "2024-02-18T06:17:04.461259Z",
     "iopub.status.idle": "2024-02-18T06:17:04.487908Z",
     "shell.execute_reply": "2024-02-18T06:17:04.486803Z"
    },
    "papermill": {
     "duration": 0.043984,
     "end_time": "2024-02-18T06:17:04.490518",
     "exception": false,
     "start_time": "2024-02-18T06:17:04.446534",
     "status": "completed"
    },
    "tags": []
   },
   "outputs": [],
   "source": [
    "##output layer\n",
    "model.add(Dense(1, activation = 'sigmoid'))"
   ]
  },
  {
   "cell_type": "code",
   "execution_count": 19,
   "id": "d4df8e41",
   "metadata": {
    "execution": {
     "iopub.execute_input": "2024-02-18T06:17:04.520111Z",
     "iopub.status.busy": "2024-02-18T06:17:04.519192Z",
     "iopub.status.idle": "2024-02-18T06:17:04.547745Z",
     "shell.execute_reply": "2024-02-18T06:17:04.546607Z"
    },
    "papermill": {
     "duration": 0.047186,
     "end_time": "2024-02-18T06:17:04.550640",
     "exception": false,
     "start_time": "2024-02-18T06:17:04.503454",
     "status": "completed"
    },
    "tags": []
   },
   "outputs": [],
   "source": [
    "##initializing optimizer\n",
    "optimizer = tf.keras.optimizers.Adamax()\n",
    "\n",
    "##compiling the model\n",
    "model.compile(optimizer = optimizer, loss = tf.keras.losses.BinaryCrossentropy(), metrics = ['accuracy'])"
   ]
  },
  {
   "cell_type": "code",
   "execution_count": 20,
   "id": "7efa629d",
   "metadata": {
    "execution": {
     "iopub.execute_input": "2024-02-18T06:17:04.579196Z",
     "iopub.status.busy": "2024-02-18T06:17:04.578689Z",
     "iopub.status.idle": "2024-02-18T06:17:04.584827Z",
     "shell.execute_reply": "2024-02-18T06:17:04.583548Z"
    },
    "papermill": {
     "duration": 0.023369,
     "end_time": "2024-02-18T06:17:04.587111",
     "exception": false,
     "start_time": "2024-02-18T06:17:04.563742",
     "status": "completed"
    },
    "tags": []
   },
   "outputs": [],
   "source": [
    "#model_history = model.fit(X_train, y_train, epochs = 20, validation_data = (X_cval, y_cval))#, n_epoch = 20)"
   ]
  },
  {
   "cell_type": "code",
   "execution_count": 21,
   "id": "0256d73b",
   "metadata": {
    "execution": {
     "iopub.execute_input": "2024-02-18T06:17:04.615947Z",
     "iopub.status.busy": "2024-02-18T06:17:04.615024Z",
     "iopub.status.idle": "2024-02-18T06:17:04.620506Z",
     "shell.execute_reply": "2024-02-18T06:17:04.619306Z"
    },
    "papermill": {
     "duration": 0.023429,
     "end_time": "2024-02-18T06:17:04.623473",
     "exception": false,
     "start_time": "2024-02-18T06:17:04.600044",
     "status": "completed"
    },
    "tags": []
   },
   "outputs": [],
   "source": [
    "#model_history = model.fit(X_train, y_train, epochs = 50, validation_data = (X_cval, y_cval))"
   ]
  },
  {
   "cell_type": "code",
   "execution_count": 22,
   "id": "f622d5f6",
   "metadata": {
    "execution": {
     "iopub.execute_input": "2024-02-18T06:17:04.654681Z",
     "iopub.status.busy": "2024-02-18T06:17:04.653702Z",
     "iopub.status.idle": "2024-02-18T06:18:04.995805Z",
     "shell.execute_reply": "2024-02-18T06:18:04.994306Z"
    },
    "papermill": {
     "duration": 60.377338,
     "end_time": "2024-02-18T06:18:05.014909",
     "exception": false,
     "start_time": "2024-02-18T06:17:04.637571",
     "status": "completed"
    },
    "tags": []
   },
   "outputs": [
    {
     "name": "stdout",
     "output_type": "stream",
     "text": [
      "Epoch 1/100\n",
      "188/188 [==============================] - 2s 4ms/step - loss: 0.9493 - accuracy: 0.4475 - val_loss: 0.7258 - val_accuracy: 0.5210\n",
      "Epoch 2/100\n",
      "188/188 [==============================] - 1s 3ms/step - loss: 0.7351 - accuracy: 0.5895 - val_loss: 0.6268 - val_accuracy: 0.6960\n",
      "Epoch 3/100\n",
      "188/188 [==============================] - 1s 3ms/step - loss: 0.6414 - accuracy: 0.6970 - val_loss: 0.5839 - val_accuracy: 0.7700\n",
      "Epoch 4/100\n",
      "188/188 [==============================] - 1s 4ms/step - loss: 0.5985 - accuracy: 0.7503 - val_loss: 0.5586 - val_accuracy: 0.7935\n",
      "Epoch 5/100\n",
      "188/188 [==============================] - 1s 3ms/step - loss: 0.5661 - accuracy: 0.7820 - val_loss: 0.5422 - val_accuracy: 0.7945\n",
      "Epoch 6/100\n",
      "188/188 [==============================] - 1s 3ms/step - loss: 0.5485 - accuracy: 0.7968 - val_loss: 0.5304 - val_accuracy: 0.7960\n",
      "Epoch 7/100\n",
      "188/188 [==============================] - 1s 4ms/step - loss: 0.5385 - accuracy: 0.7993 - val_loss: 0.5210 - val_accuracy: 0.7985\n",
      "Epoch 8/100\n",
      "188/188 [==============================] - 1s 3ms/step - loss: 0.5234 - accuracy: 0.8043 - val_loss: 0.5134 - val_accuracy: 0.7980\n",
      "Epoch 9/100\n",
      "188/188 [==============================] - 1s 3ms/step - loss: 0.5105 - accuracy: 0.8007 - val_loss: 0.5070 - val_accuracy: 0.7975\n",
      "Epoch 10/100\n",
      "188/188 [==============================] - 1s 3ms/step - loss: 0.5044 - accuracy: 0.8042 - val_loss: 0.5017 - val_accuracy: 0.7980\n",
      "Epoch 11/100\n",
      "188/188 [==============================] - 1s 3ms/step - loss: 0.4990 - accuracy: 0.8037 - val_loss: 0.4968 - val_accuracy: 0.7980\n",
      "Epoch 12/100\n",
      "188/188 [==============================] - 1s 3ms/step - loss: 0.4917 - accuracy: 0.8030 - val_loss: 0.4924 - val_accuracy: 0.7975\n",
      "Epoch 13/100\n",
      "188/188 [==============================] - 1s 3ms/step - loss: 0.4878 - accuracy: 0.8058 - val_loss: 0.4882 - val_accuracy: 0.7985\n",
      "Epoch 14/100\n",
      "188/188 [==============================] - 1s 3ms/step - loss: 0.4821 - accuracy: 0.8022 - val_loss: 0.4843 - val_accuracy: 0.7985\n",
      "Epoch 15/100\n",
      "188/188 [==============================] - 1s 3ms/step - loss: 0.4779 - accuracy: 0.8070 - val_loss: 0.4804 - val_accuracy: 0.8000\n",
      "Epoch 16/100\n",
      "188/188 [==============================] - 1s 3ms/step - loss: 0.4783 - accuracy: 0.8030 - val_loss: 0.4778 - val_accuracy: 0.8000\n",
      "Epoch 17/100\n",
      "188/188 [==============================] - 1s 3ms/step - loss: 0.4785 - accuracy: 0.8037 - val_loss: 0.4747 - val_accuracy: 0.7995\n",
      "Epoch 18/100\n",
      "188/188 [==============================] - 1s 3ms/step - loss: 0.4730 - accuracy: 0.8078 - val_loss: 0.4718 - val_accuracy: 0.7990\n",
      "Epoch 19/100\n",
      "188/188 [==============================] - 1s 3ms/step - loss: 0.4710 - accuracy: 0.8060 - val_loss: 0.4692 - val_accuracy: 0.7990\n",
      "Epoch 20/100\n",
      "188/188 [==============================] - 1s 3ms/step - loss: 0.4705 - accuracy: 0.8060 - val_loss: 0.4662 - val_accuracy: 0.7990\n",
      "Epoch 21/100\n",
      "188/188 [==============================] - 1s 3ms/step - loss: 0.4660 - accuracy: 0.8058 - val_loss: 0.4638 - val_accuracy: 0.7990\n",
      "Epoch 22/100\n",
      "188/188 [==============================] - 1s 3ms/step - loss: 0.4651 - accuracy: 0.8075 - val_loss: 0.4607 - val_accuracy: 0.7990\n",
      "Epoch 23/100\n",
      "188/188 [==============================] - 1s 3ms/step - loss: 0.4652 - accuracy: 0.8068 - val_loss: 0.4583 - val_accuracy: 0.7985\n",
      "Epoch 24/100\n",
      "188/188 [==============================] - 1s 3ms/step - loss: 0.4610 - accuracy: 0.8092 - val_loss: 0.4553 - val_accuracy: 0.7990\n",
      "Epoch 25/100\n",
      "188/188 [==============================] - 1s 3ms/step - loss: 0.4582 - accuracy: 0.8105 - val_loss: 0.4535 - val_accuracy: 0.7995\n",
      "Epoch 26/100\n",
      "188/188 [==============================] - 1s 3ms/step - loss: 0.4561 - accuracy: 0.8120 - val_loss: 0.4507 - val_accuracy: 0.7995\n",
      "Epoch 27/100\n",
      "188/188 [==============================] - 1s 3ms/step - loss: 0.4553 - accuracy: 0.8117 - val_loss: 0.4483 - val_accuracy: 0.7995\n",
      "Epoch 28/100\n",
      "188/188 [==============================] - 1s 3ms/step - loss: 0.4520 - accuracy: 0.8097 - val_loss: 0.4455 - val_accuracy: 0.8000\n",
      "Epoch 29/100\n",
      "188/188 [==============================] - 1s 3ms/step - loss: 0.4496 - accuracy: 0.8133 - val_loss: 0.4430 - val_accuracy: 0.8010\n",
      "Epoch 30/100\n",
      "188/188 [==============================] - 1s 3ms/step - loss: 0.4479 - accuracy: 0.8133 - val_loss: 0.4406 - val_accuracy: 0.8020\n",
      "Epoch 31/100\n",
      "188/188 [==============================] - 1s 3ms/step - loss: 0.4479 - accuracy: 0.8135 - val_loss: 0.4389 - val_accuracy: 0.8025\n",
      "Epoch 32/100\n",
      "188/188 [==============================] - 1s 3ms/step - loss: 0.4470 - accuracy: 0.8137 - val_loss: 0.4364 - val_accuracy: 0.8030\n",
      "Epoch 33/100\n",
      "188/188 [==============================] - 1s 3ms/step - loss: 0.4407 - accuracy: 0.8150 - val_loss: 0.4340 - val_accuracy: 0.8040\n",
      "Epoch 34/100\n",
      "188/188 [==============================] - 1s 3ms/step - loss: 0.4411 - accuracy: 0.8187 - val_loss: 0.4314 - val_accuracy: 0.8050\n",
      "Epoch 35/100\n",
      "188/188 [==============================] - 1s 3ms/step - loss: 0.4439 - accuracy: 0.8178 - val_loss: 0.4294 - val_accuracy: 0.8050\n",
      "Epoch 36/100\n",
      "188/188 [==============================] - 1s 3ms/step - loss: 0.4414 - accuracy: 0.8172 - val_loss: 0.4271 - val_accuracy: 0.8070\n",
      "Epoch 37/100\n",
      "188/188 [==============================] - 1s 3ms/step - loss: 0.4365 - accuracy: 0.8197 - val_loss: 0.4248 - val_accuracy: 0.8085\n",
      "Epoch 38/100\n",
      "188/188 [==============================] - 1s 3ms/step - loss: 0.4420 - accuracy: 0.8178 - val_loss: 0.4241 - val_accuracy: 0.8075\n",
      "Epoch 39/100\n",
      "188/188 [==============================] - 1s 3ms/step - loss: 0.4407 - accuracy: 0.8167 - val_loss: 0.4221 - val_accuracy: 0.8080\n",
      "Epoch 40/100\n",
      "188/188 [==============================] - 1s 3ms/step - loss: 0.4403 - accuracy: 0.8170 - val_loss: 0.4205 - val_accuracy: 0.8080\n",
      "Epoch 41/100\n",
      "188/188 [==============================] - 1s 3ms/step - loss: 0.4330 - accuracy: 0.8202 - val_loss: 0.4184 - val_accuracy: 0.8090\n",
      "Epoch 42/100\n",
      "188/188 [==============================] - 1s 3ms/step - loss: 0.4353 - accuracy: 0.8205 - val_loss: 0.4162 - val_accuracy: 0.8100\n",
      "Epoch 43/100\n",
      "188/188 [==============================] - 1s 3ms/step - loss: 0.4303 - accuracy: 0.8198 - val_loss: 0.4151 - val_accuracy: 0.8105\n",
      "Epoch 44/100\n",
      "188/188 [==============================] - 1s 3ms/step - loss: 0.4350 - accuracy: 0.8197 - val_loss: 0.4138 - val_accuracy: 0.8115\n",
      "Epoch 45/100\n",
      "188/188 [==============================] - 1s 3ms/step - loss: 0.4281 - accuracy: 0.8238 - val_loss: 0.4125 - val_accuracy: 0.8115\n",
      "Epoch 46/100\n",
      "188/188 [==============================] - 1s 3ms/step - loss: 0.4284 - accuracy: 0.8240 - val_loss: 0.4111 - val_accuracy: 0.8125\n",
      "Epoch 47/100\n",
      "188/188 [==============================] - 1s 3ms/step - loss: 0.4286 - accuracy: 0.8255 - val_loss: 0.4102 - val_accuracy: 0.8130\n",
      "Epoch 48/100\n",
      "188/188 [==============================] - 1s 3ms/step - loss: 0.4230 - accuracy: 0.8233 - val_loss: 0.4085 - val_accuracy: 0.8135\n",
      "Epoch 49/100\n",
      "188/188 [==============================] - 1s 3ms/step - loss: 0.4322 - accuracy: 0.8215 - val_loss: 0.4076 - val_accuracy: 0.8140\n",
      "Epoch 50/100\n",
      "188/188 [==============================] - 1s 3ms/step - loss: 0.4222 - accuracy: 0.8290 - val_loss: 0.4056 - val_accuracy: 0.8180\n",
      "Epoch 51/100\n",
      "188/188 [==============================] - 1s 3ms/step - loss: 0.4252 - accuracy: 0.8237 - val_loss: 0.4042 - val_accuracy: 0.8180\n",
      "Epoch 52/100\n",
      "188/188 [==============================] - 1s 3ms/step - loss: 0.4252 - accuracy: 0.8268 - val_loss: 0.4035 - val_accuracy: 0.8185\n",
      "Epoch 53/100\n",
      "188/188 [==============================] - 1s 3ms/step - loss: 0.4350 - accuracy: 0.8195 - val_loss: 0.4039 - val_accuracy: 0.8195\n",
      "Epoch 54/100\n",
      "188/188 [==============================] - 1s 3ms/step - loss: 0.4229 - accuracy: 0.8253 - val_loss: 0.4031 - val_accuracy: 0.8195\n",
      "Epoch 55/100\n",
      "188/188 [==============================] - 1s 4ms/step - loss: 0.4222 - accuracy: 0.8268 - val_loss: 0.4020 - val_accuracy: 0.8195\n",
      "Epoch 56/100\n",
      "188/188 [==============================] - 1s 3ms/step - loss: 0.4246 - accuracy: 0.8265 - val_loss: 0.4016 - val_accuracy: 0.8200\n",
      "Epoch 57/100\n",
      "188/188 [==============================] - 1s 3ms/step - loss: 0.4250 - accuracy: 0.8253 - val_loss: 0.4006 - val_accuracy: 0.8205\n",
      "Epoch 58/100\n",
      "188/188 [==============================] - 1s 3ms/step - loss: 0.4246 - accuracy: 0.8275 - val_loss: 0.3995 - val_accuracy: 0.8230\n",
      "Epoch 59/100\n",
      "188/188 [==============================] - 1s 3ms/step - loss: 0.4256 - accuracy: 0.8260 - val_loss: 0.3989 - val_accuracy: 0.8225\n",
      "Epoch 60/100\n",
      "188/188 [==============================] - 1s 3ms/step - loss: 0.4178 - accuracy: 0.8298 - val_loss: 0.3979 - val_accuracy: 0.8235\n",
      "Epoch 61/100\n",
      "188/188 [==============================] - 1s 4ms/step - loss: 0.4175 - accuracy: 0.8263 - val_loss: 0.3975 - val_accuracy: 0.8235\n",
      "Epoch 62/100\n",
      "188/188 [==============================] - 1s 4ms/step - loss: 0.4171 - accuracy: 0.8293 - val_loss: 0.3967 - val_accuracy: 0.8250\n",
      "Epoch 63/100\n",
      "188/188 [==============================] - 1s 4ms/step - loss: 0.4224 - accuracy: 0.8280 - val_loss: 0.3974 - val_accuracy: 0.8225\n",
      "Epoch 64/100\n",
      "188/188 [==============================] - 1s 3ms/step - loss: 0.4272 - accuracy: 0.8252 - val_loss: 0.3972 - val_accuracy: 0.8235\n",
      "Epoch 65/100\n",
      "188/188 [==============================] - 1s 3ms/step - loss: 0.4205 - accuracy: 0.8303 - val_loss: 0.3963 - val_accuracy: 0.8240\n",
      "Epoch 66/100\n",
      "188/188 [==============================] - 1s 4ms/step - loss: 0.4193 - accuracy: 0.8302 - val_loss: 0.3953 - val_accuracy: 0.8260\n",
      "Epoch 67/100\n",
      "188/188 [==============================] - 1s 3ms/step - loss: 0.4213 - accuracy: 0.8293 - val_loss: 0.3958 - val_accuracy: 0.8250\n",
      "Epoch 68/100\n",
      "188/188 [==============================] - 1s 3ms/step - loss: 0.4175 - accuracy: 0.8292 - val_loss: 0.3951 - val_accuracy: 0.8265\n",
      "Epoch 69/100\n",
      "188/188 [==============================] - 1s 3ms/step - loss: 0.4262 - accuracy: 0.8253 - val_loss: 0.3955 - val_accuracy: 0.8240\n",
      "Epoch 70/100\n",
      "188/188 [==============================] - 1s 3ms/step - loss: 0.4201 - accuracy: 0.8280 - val_loss: 0.3947 - val_accuracy: 0.8250\n",
      "Epoch 71/100\n",
      "188/188 [==============================] - 1s 3ms/step - loss: 0.4254 - accuracy: 0.8292 - val_loss: 0.3948 - val_accuracy: 0.8250\n",
      "Epoch 72/100\n",
      "188/188 [==============================] - 1s 3ms/step - loss: 0.4117 - accuracy: 0.8313 - val_loss: 0.3937 - val_accuracy: 0.8260\n",
      "Epoch 73/100\n",
      "188/188 [==============================] - 1s 3ms/step - loss: 0.4162 - accuracy: 0.8318 - val_loss: 0.3931 - val_accuracy: 0.8265\n",
      "Epoch 74/100\n",
      "188/188 [==============================] - 1s 3ms/step - loss: 0.4190 - accuracy: 0.8300 - val_loss: 0.3928 - val_accuracy: 0.8265\n",
      "Epoch 75/100\n",
      "188/188 [==============================] - 1s 3ms/step - loss: 0.4155 - accuracy: 0.8297 - val_loss: 0.3927 - val_accuracy: 0.8255\n",
      "Epoch 76/100\n",
      "188/188 [==============================] - 1s 3ms/step - loss: 0.4161 - accuracy: 0.8337 - val_loss: 0.3917 - val_accuracy: 0.8285\n",
      "Epoch 77/100\n",
      "188/188 [==============================] - 1s 3ms/step - loss: 0.4096 - accuracy: 0.8337 - val_loss: 0.3916 - val_accuracy: 0.8270\n",
      "Epoch 78/100\n",
      "188/188 [==============================] - 1s 3ms/step - loss: 0.4161 - accuracy: 0.8325 - val_loss: 0.3916 - val_accuracy: 0.8270\n",
      "Epoch 79/100\n",
      "188/188 [==============================] - 1s 3ms/step - loss: 0.4105 - accuracy: 0.8348 - val_loss: 0.3916 - val_accuracy: 0.8260\n",
      "Epoch 80/100\n",
      "188/188 [==============================] - 1s 3ms/step - loss: 0.4152 - accuracy: 0.8295 - val_loss: 0.3912 - val_accuracy: 0.8270\n",
      "Epoch 81/100\n",
      "188/188 [==============================] - 1s 3ms/step - loss: 0.4150 - accuracy: 0.8315 - val_loss: 0.3915 - val_accuracy: 0.8255\n",
      "Epoch 82/100\n",
      "188/188 [==============================] - 1s 3ms/step - loss: 0.4087 - accuracy: 0.8313 - val_loss: 0.3896 - val_accuracy: 0.8300\n",
      "Epoch 83/100\n",
      "188/188 [==============================] - 1s 3ms/step - loss: 0.4100 - accuracy: 0.8333 - val_loss: 0.3898 - val_accuracy: 0.8290\n",
      "Epoch 84/100\n",
      "188/188 [==============================] - 1s 3ms/step - loss: 0.4133 - accuracy: 0.8322 - val_loss: 0.3895 - val_accuracy: 0.8280\n",
      "Epoch 85/100\n",
      "188/188 [==============================] - 1s 3ms/step - loss: 0.4087 - accuracy: 0.8348 - val_loss: 0.3891 - val_accuracy: 0.8280\n",
      "Epoch 86/100\n",
      "188/188 [==============================] - 1s 3ms/step - loss: 0.4152 - accuracy: 0.8320 - val_loss: 0.3890 - val_accuracy: 0.8290\n",
      "Epoch 87/100\n",
      "188/188 [==============================] - 1s 3ms/step - loss: 0.4100 - accuracy: 0.8343 - val_loss: 0.3893 - val_accuracy: 0.8280\n",
      "Epoch 88/100\n",
      "188/188 [==============================] - 1s 3ms/step - loss: 0.4092 - accuracy: 0.8340 - val_loss: 0.3886 - val_accuracy: 0.8285\n",
      "Epoch 89/100\n",
      "188/188 [==============================] - 1s 3ms/step - loss: 0.4142 - accuracy: 0.8312 - val_loss: 0.3887 - val_accuracy: 0.8300\n",
      "Epoch 90/100\n",
      "188/188 [==============================] - 1s 3ms/step - loss: 0.4162 - accuracy: 0.8298 - val_loss: 0.3890 - val_accuracy: 0.8295\n",
      "Epoch 91/100\n",
      "188/188 [==============================] - 1s 3ms/step - loss: 0.4136 - accuracy: 0.8318 - val_loss: 0.3886 - val_accuracy: 0.8300\n",
      "Epoch 92/100\n",
      "188/188 [==============================] - 1s 3ms/step - loss: 0.4124 - accuracy: 0.8317 - val_loss: 0.3884 - val_accuracy: 0.8295\n",
      "Epoch 93/100\n",
      "188/188 [==============================] - 1s 3ms/step - loss: 0.4122 - accuracy: 0.8348 - val_loss: 0.3882 - val_accuracy: 0.8295\n",
      "Epoch 94/100\n",
      "188/188 [==============================] - 1s 3ms/step - loss: 0.4151 - accuracy: 0.8343 - val_loss: 0.3885 - val_accuracy: 0.8305\n",
      "Epoch 95/100\n",
      "188/188 [==============================] - 1s 3ms/step - loss: 0.4123 - accuracy: 0.8308 - val_loss: 0.3878 - val_accuracy: 0.8320\n",
      "Epoch 96/100\n",
      "188/188 [==============================] - 1s 3ms/step - loss: 0.4159 - accuracy: 0.8287 - val_loss: 0.3882 - val_accuracy: 0.8300\n",
      "Epoch 97/100\n",
      "188/188 [==============================] - 1s 3ms/step - loss: 0.4107 - accuracy: 0.8347 - val_loss: 0.3881 - val_accuracy: 0.8300\n",
      "Epoch 98/100\n",
      "188/188 [==============================] - 1s 3ms/step - loss: 0.4084 - accuracy: 0.8357 - val_loss: 0.3882 - val_accuracy: 0.8290\n",
      "Epoch 99/100\n",
      "188/188 [==============================] - 1s 3ms/step - loss: 0.4099 - accuracy: 0.8337 - val_loss: 0.3879 - val_accuracy: 0.8295\n",
      "Epoch 100/100\n",
      "188/188 [==============================] - 1s 3ms/step - loss: 0.4131 - accuracy: 0.8308 - val_loss: 0.3877 - val_accuracy: 0.8300\n"
     ]
    }
   ],
   "source": [
    "model_history = model.fit(X_train, y_train, batch_size = 32, epochs = 100, validation_data = (X_cval, y_cval))"
   ]
  },
  {
   "cell_type": "code",
   "execution_count": 23,
   "id": "2b0829f3",
   "metadata": {
    "execution": {
     "iopub.execute_input": "2024-02-18T06:18:05.358746Z",
     "iopub.status.busy": "2024-02-18T06:18:05.358266Z",
     "iopub.status.idle": "2024-02-18T06:18:05.365187Z",
     "shell.execute_reply": "2024-02-18T06:18:05.363879Z"
    },
    "papermill": {
     "duration": 0.231887,
     "end_time": "2024-02-18T06:18:05.368160",
     "exception": false,
     "start_time": "2024-02-18T06:18:05.136273",
     "status": "completed"
    },
    "tags": []
   },
   "outputs": [
    {
     "name": "stdout",
     "output_type": "stream",
     "text": [
      "dict_keys(['loss', 'accuracy', 'val_loss', 'val_accuracy'])\n"
     ]
    }
   ],
   "source": [
    "print(model_history.history.keys())"
   ]
  },
  {
   "cell_type": "code",
   "execution_count": 24,
   "id": "c20dfe1c",
   "metadata": {
    "execution": {
     "iopub.execute_input": "2024-02-18T06:18:05.613832Z",
     "iopub.status.busy": "2024-02-18T06:18:05.612730Z",
     "iopub.status.idle": "2024-02-18T06:18:05.947779Z",
     "shell.execute_reply": "2024-02-18T06:18:05.946227Z"
    },
    "papermill": {
     "duration": 0.461078,
     "end_time": "2024-02-18T06:18:05.950789",
     "exception": false,
     "start_time": "2024-02-18T06:18:05.489711",
     "status": "completed"
    },
    "tags": []
   },
   "outputs": [
    {
     "data": {
      "image/png": "[encoded data removed]",
      "text/plain": [
       "<Figure size 640x480 with 1 Axes>"
      ]
     },
     "metadata": {},
     "output_type": "display_data"
    }
   ],
   "source": [
    "## summarize history for accuracy\n",
    "plt.plot(model_history.history['accuracy'])\n",
    "plt.plot(model_history.history['val_accuracy'])\n",
    "plt.title('Model Accuracy')\n",
    "plt.ylabel('Accuracy')\n",
    "plt.xlabel('Epoch')\n",
    "plt.legend(['Training Set', 'Cross Validation Set'], loc = 'upper right')\n",
    "plt.show()"
   ]
  },
  {
   "cell_type": "code",
   "execution_count": 25,
   "id": "61cee793",
   "metadata": {
    "execution": {
     "iopub.execute_input": "2024-02-18T06:18:06.204170Z",
     "iopub.status.busy": "2024-02-18T06:18:06.203663Z",
     "iopub.status.idle": "2024-02-18T06:18:06.470665Z",
     "shell.execute_reply": "2024-02-18T06:18:06.469352Z"
    },
    "papermill": {
     "duration": 0.397173,
     "end_time": "2024-02-18T06:18:06.473717",
     "exception": false,
     "start_time": "2024-02-18T06:18:06.076544",
     "status": "completed"
    },
    "tags": []
   },
   "outputs": [
    {
     "data": {
      "image/png": "[encoded data removed]",
      "text/plain": [
       "<Figure size 640x480 with 1 Axes>"
      ]
     },
     "metadata": {},
     "output_type": "display_data"
    }
   ],
   "source": [
    "## summarize history for loss\n",
    "plt.plot(model_history.history['loss'])\n",
    "plt.plot(model_history.history['val_loss'])\n",
    "plt.title('Model loss')\n",
    "plt.ylabel('Loss')\n",
    "plt.xlabel('Epoch')\n",
    "plt.legend(['Training Set', 'Cross Validation Set'], loc = 'upper right')\n",
    "plt.show()"
   ]
  },
  {
   "cell_type": "markdown",
   "id": "36305171",
   "metadata": {
    "papermill": {
     "duration": 0.119685,
     "end_time": "2024-02-18T06:18:06.714960",
     "exception": false,
     "start_time": "2024-02-18T06:18:06.595275",
     "status": "completed"
    },
    "tags": []
   },
   "source": []
  },
  {
   "cell_type": "markdown",
   "id": "9d062fc5",
   "metadata": {
    "papermill": {
     "duration": 0.126421,
     "end_time": "2024-02-18T06:18:06.962120",
     "exception": false,
     "start_time": "2024-02-18T06:18:06.835699",
     "status": "completed"
    },
    "tags": []
   },
   "source": [
    "**Fitting Model into Test Dataset and Making Predictions**"
   ]
  },
  {
   "cell_type": "code",
   "execution_count": 26,
   "id": "4ee28035",
   "metadata": {
    "execution": {
     "iopub.execute_input": "2024-02-18T06:18:07.218301Z",
     "iopub.status.busy": "2024-02-18T06:18:07.217088Z",
     "iopub.status.idle": "2024-02-18T06:18:07.521564Z",
     "shell.execute_reply": "2024-02-18T06:18:07.519693Z"
    },
    "papermill": {
     "duration": 0.435625,
     "end_time": "2024-02-18T06:18:07.524612",
     "exception": false,
     "start_time": "2024-02-18T06:18:07.088987",
     "status": "completed"
    },
    "tags": []
   },
   "outputs": [
    {
     "name": "stdout",
     "output_type": "stream",
     "text": [
      "63/63 [==============================] - 0s 1ms/step\n"
     ]
    }
   ],
   "source": [
    "## predicting test dataset results\n",
    "y_pred = model.predict(X_test)\n",
    "y_pred = (y_pred > 0.5)"
   ]
  },
  {
   "cell_type": "code",
   "execution_count": 27,
   "id": "351fdb62",
   "metadata": {
    "execution": {
     "iopub.execute_input": "2024-02-18T06:18:07.771414Z",
     "iopub.status.busy": "2024-02-18T06:18:07.770200Z",
     "iopub.status.idle": "2024-02-18T06:18:07.781718Z",
     "shell.execute_reply": "2024-02-18T06:18:07.780415Z"
    },
    "papermill": {
     "duration": 0.138612,
     "end_time": "2024-02-18T06:18:07.784409",
     "exception": false,
     "start_time": "2024-02-18T06:18:07.645797",
     "status": "completed"
    },
    "tags": []
   },
   "outputs": [
    {
     "data": {
      "text/plain": [
       "array([[1582,    8],\n",
       "       [ 330,   80]])"
      ]
     },
     "execution_count": 27,
     "metadata": {},
     "output_type": "execute_result"
    }
   ],
   "source": [
    "##Confusion matrix\n",
    "from sklearn.metrics import confusion_matrix\n",
    "\n",
    "cf_matrix = confusion_matrix(y_test, y_pred)\n",
    "cf_matrix"
   ]
  },
  {
   "cell_type": "code",
   "execution_count": 28,
   "id": "4dae55b7",
   "metadata": {
    "execution": {
     "iopub.execute_input": "2024-02-18T06:18:08.063970Z",
     "iopub.status.busy": "2024-02-18T06:18:08.063403Z",
     "iopub.status.idle": "2024-02-18T06:18:08.076270Z",
     "shell.execute_reply": "2024-02-18T06:18:08.075041Z"
    },
    "papermill": {
     "duration": 0.14277,
     "end_time": "2024-02-18T06:18:08.079326",
     "exception": false,
     "start_time": "2024-02-18T06:18:07.936556",
     "status": "completed"
    },
    "tags": []
   },
   "outputs": [
    {
     "data": {
      "text/plain": [
       "0.831"
      ]
     },
     "execution_count": 28,
     "metadata": {},
     "output_type": "execute_result"
    }
   ],
   "source": [
    "##calculating the accuracy on test dataset\n",
    "from sklearn.metrics import accuracy_score\n",
    "score = accuracy_score(y_pred, y_test)\n",
    "score"
   ]
  },
  {
   "cell_type": "markdown",
   "id": "2e0a827f",
   "metadata": {
    "papermill": {
     "duration": 0.122133,
     "end_time": "2024-02-18T06:18:08.327011",
     "exception": false,
     "start_time": "2024-02-18T06:18:08.204878",
     "status": "completed"
    },
    "tags": []
   },
   "source": [
    "**DONE!!**"
   ]
  },
  {
   "cell_type": "code",
   "execution_count": null,
   "id": "4ad58b23",
   "metadata": {
    "papermill": {
     "duration": 0.121484,
     "end_time": "2024-02-18T06:18:08.568533",
     "exception": false,
     "start_time": "2024-02-18T06:18:08.447049",
     "status": "completed"
    },
    "tags": []
   },
   "outputs": [],
   "source": []
  }
 ],
 "metadata": {
  "kaggle": {
   "accelerator": "none",
   "dataSources": [
    {
     "datasetId": 156197,
     "sourceId": 358170,
     "sourceType": "datasetVersion"
    }
   ],
   "dockerImageVersionId": 30646,
   "isGpuEnabled": false,
   "isInternetEnabled": true,
   "language": "python",
   "sourceType": "notebook"
  },
  "kernelspec": {
   "display_name": "Python 3",
   "language": "python",
   "name": "python3"
  },
  "language_info": {
   "codemirror_mode": {
    "name": "ipython",
    "version": 3
   },
   "file_extension": ".py",
   "mimetype": "text/x-python",
   "name": "python",
   "nbconvert_exporter": "python",
   "pygments_lexer": "ipython3",
   "version": "3.10.13"
  },
  "papermill": {
   "default_parameters": {},
   "duration": 92.442562,
   "end_time": "2024-02-18T06:18:12.188668",
   "environment_variables": {},
   "exception": null,
   "input_path": "__notebook__.ipynb",
   "output_path": "__notebook__.ipynb",
   "parameters": {},
   "start_time": "2024-02-18T06:16:39.746106",
   "version": "2.5.0"
  }
 },
 "nbformat": 4,
 "nbformat_minor": 5
}
